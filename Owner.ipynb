{
  "nbformat": 4,
  "nbformat_minor": 0,
  "metadata": {
    "colab": {
      "name": "Owner.ipynb",
      "provenance": []
    },
    "kernelspec": {
      "name": "python3",
      "display_name": "Python 3"
    },
    "language_info": {
      "name": "python"
    }
  },
  "cells": [
    {
      "cell_type": "markdown",
      "metadata": {
        "id": "BxiAvn9R-pNe"
      },
      "source": [
        "**READING DATA FROM INVENTORY**"
      ]
    },
    {
      "cell_type": "code",
      "metadata": {
        "id": "TrITRerk-tdc"
      },
      "source": [
        "import json\n",
        "\n",
        "fd = open(\"record.json\",'r')\n",
        "r = fd.read()\n",
        "fd.close()\n",
        "\n",
        "records = json.loads(r)"
      ],
      "execution_count": null,
      "outputs": []
    },
    {
      "cell_type": "code",
      "metadata": {
        "colab": {
          "base_uri": "https://localhost:8080/"
        },
        "id": "Fjv2xbcj-03Z",
        "outputId": "09f31561-a36b-4588-8c9e-60c159c4432b"
      },
      "source": [
        "records"
      ],
      "execution_count": null,
      "outputs": [
        {
          "output_type": "execute_result",
          "data": {
            "text/plain": [
              "{'1501': {'Name': 'TupperWare Bottler', 'Price': 80, 'quantity': 30},\n",
              " '1502': {'Name': 'Dishwash', 'Price': 20, 'quantity': 200},\n",
              " '1503': {'Name': 'FingerChips', 'Price': 20, 'quantity': 200},\n",
              " '1504': {'Name': 'Apple Juice', 'Price': 100, 'quantity': 40},\n",
              " '1505': {'Name': 'Bags', 'Price': 150, 'quantity': 50},\n",
              " '1506': {'Name': 'Clippers', 'Price': 20, 'quantity': 300},\n",
              " '1507': {'Name': 'Dairymilk', 'Price': 25, 'quantity': 100},\n",
              " '1508': {'Name': 'Espresso', 'Price': 90, 'quantity': 50},\n",
              " '1509': {'Name': 'Flour', 'Price': 200, 'quantity': 30},\n",
              " '1510': {'Name': 'Ghee', 'Price': 200, 'quantity': 30},\n",
              " '1511': {'Name': 'Honey', 'Price': 75, 'quantity': 50},\n",
              " '1512': {'Name': 'Icing Powder', 'Price': 60, 'quantity': 70},\n",
              " '1513': {'Name': 'Jello', 'Price': 10, 'quantity': 50},\n",
              " '1514': {'Name': 'k', 'Price': 15, 'quantity': 30},\n",
              " '1515': {'Name': 'l', 'Price': 25, 'quantity': 40},\n",
              " '1516': {'Name': 'M', 'Price': 35, 'quantity': 50},\n",
              " '1517': {'Name': 'N', 'Price': 45, 'quantity': 60},\n",
              " '1518': {'Name': 'O', 'Price': 55, 'quantity': 70},\n",
              " '1519': {'Name': 'P', 'Price': 65, 'quantity': 80},\n",
              " '1520': {'Name': 'Q', 'Price': 75, 'quantity': 90},\n",
              " '1521': {'Name': 'R', 'Price': 85, 'quantity': 100},\n",
              " '1522': {'Name': 'S', 'Price': 95, 'quantity': 130},\n",
              " '1523': {'Name': 'T', 'Price': 105, 'quantity': 120},\n",
              " '1524': {'Name': 'U', 'Price': 115, 'quantity': 110},\n",
              " '1525': {'Name': 'V', 'Price': 125, 'quantity': 50},\n",
              " '1526': {'Name': 'W', 'Price': 135, 'quantity': 80},\n",
              " '1527': {'Name': 'X', 'Price': 145, 'quantity': 64},\n",
              " '1528': {'Name': 'Y', 'Price': 155, 'quantity': 76},\n",
              " '1529': {'Name': 'Z', 'Price': 165, 'quantity': 45},\n",
              " '1530': {'Name': 'Papper bag', 'Price': 175, 'quantity': 233}}"
            ]
          },
          "metadata": {},
          "execution_count": 2
        }
      ]
    },
    {
      "cell_type": "markdown",
      "metadata": {
        "id": "Ykkgfypz-8Eu"
      },
      "source": [
        "**ADDING NEW ITEM TO INVENTORY**\n"
      ]
    },
    {
      "cell_type": "code",
      "metadata": {
        "id": "NDs6u3q5_A5j",
        "colab": {
          "base_uri": "https://localhost:8080/"
        },
        "outputId": "8d61f78d-3642-421d-8e51-cdb77d6dccf3"
      },
      "source": [
        "ID = str(input(\"Enter product id:\"))\n",
        "name = str(input(\"Enter name:\"))\n",
        "price = int(input(\"Enter price:\"))\n",
        "quant = int(input(\"Enter quantity:\"))\n",
        "\n",
        "records[ID] = {'Name': name, 'Price': price, 'quantity': quant}\n",
        "\n",
        "js = json.dumps(records)\n",
        "\n",
        "fd = open(\"record.json\",'w')\n",
        "fd.write(js)\n",
        "fd.close()"
      ],
      "execution_count": 3,
      "outputs": [
        {
          "name": "stdout",
          "output_type": "stream",
          "text": [
            "Enter product id:1531\n",
            "Enter name:greeting card\n",
            "Enter price:15\n",
            "Enter quantity:200\n"
          ]
        }
      ]
    },
    {
      "cell_type": "code",
      "metadata": {
        "colab": {
          "base_uri": "https://localhost:8080/"
        },
        "id": "latovHG__oyj",
        "outputId": "d359cf6e-f2b1-45ca-c1c5-49be2d63ea3e"
      },
      "source": [
        "records"
      ],
      "execution_count": 4,
      "outputs": [
        {
          "output_type": "execute_result",
          "data": {
            "text/plain": [
              "{'1501': {'Name': 'TupperWare Bottler', 'Price': 80, 'quantity': 30},\n",
              " '1502': {'Name': 'Dishwash', 'Price': 20, 'quantity': 200},\n",
              " '1503': {'Name': 'FingerChips', 'Price': 20, 'quantity': 200},\n",
              " '1504': {'Name': 'Apple Juice', 'Price': 100, 'quantity': 40},\n",
              " '1505': {'Name': 'Bags', 'Price': 150, 'quantity': 50},\n",
              " '1506': {'Name': 'Clippers', 'Price': 20, 'quantity': 300},\n",
              " '1507': {'Name': 'Dairymilk', 'Price': 25, 'quantity': 100},\n",
              " '1508': {'Name': 'Espresso', 'Price': 90, 'quantity': 50},\n",
              " '1509': {'Name': 'Flour', 'Price': 200, 'quantity': 30},\n",
              " '1510': {'Name': 'Ghee', 'Price': 200, 'quantity': 30},\n",
              " '1511': {'Name': 'Honey', 'Price': 75, 'quantity': 50},\n",
              " '1512': {'Name': 'Icing Powder', 'Price': 60, 'quantity': 70},\n",
              " '1513': {'Name': 'Jello', 'Price': 10, 'quantity': 50},\n",
              " '1514': {'Name': 'k', 'Price': 15, 'quantity': 30},\n",
              " '1515': {'Name': 'l', 'Price': 25, 'quantity': 40},\n",
              " '1516': {'Name': 'M', 'Price': 35, 'quantity': 50},\n",
              " '1517': {'Name': 'N', 'Price': 45, 'quantity': 60},\n",
              " '1518': {'Name': 'O', 'Price': 55, 'quantity': 70},\n",
              " '1519': {'Name': 'P', 'Price': 65, 'quantity': 80},\n",
              " '1520': {'Name': 'Q', 'Price': 75, 'quantity': 90},\n",
              " '1521': {'Name': 'R', 'Price': 85, 'quantity': 100},\n",
              " '1522': {'Name': 'S', 'Price': 95, 'quantity': 130},\n",
              " '1523': {'Name': 'T', 'Price': 105, 'quantity': 120},\n",
              " '1524': {'Name': 'U', 'Price': 115, 'quantity': 110},\n",
              " '1525': {'Name': 'V', 'Price': 125, 'quantity': 50},\n",
              " '1526': {'Name': 'W', 'Price': 135, 'quantity': 80},\n",
              " '1527': {'Name': 'X', 'Price': 145, 'quantity': 64},\n",
              " '1528': {'Name': 'Y', 'Price': 155, 'quantity': 76},\n",
              " '1529': {'Name': 'Z', 'Price': 165, 'quantity': 45},\n",
              " '1530': {'Name': 'Papper bag', 'Price': 175, 'quantity': 233},\n",
              " '1531': {'Name': 'greeting card', 'Price': 15, 'quantity': 200}}"
            ]
          },
          "metadata": {},
          "execution_count": 4
        }
      ]
    },
    {
      "cell_type": "markdown",
      "metadata": {
        "id": "3WZ3zM4C_t4m"
      },
      "source": [
        "**DELETING A RECORD**"
      ]
    },
    {
      "cell_type": "code",
      "metadata": {
        "colab": {
          "base_uri": "https://localhost:8080/"
        },
        "id": "jN23P0Bo_p0Z",
        "outputId": "b28b5906-2afd-40b4-b1d3-d94c081f08aa"
      },
      "source": [
        "ID = str(input(\"Enter product id:\"))\n",
        "\n",
        "if ID in records:\n",
        "  del records[ID]\n",
        "else:\n",
        "  print(\"Product Does not Exist\")\n",
        "\n",
        "js = json.dumps(records)\n",
        "\n",
        "fd = open(\"record.json\",'w')\n",
        "fd.write(js)\n",
        "fd.close()"
      ],
      "execution_count": 5,
      "outputs": [
        {
          "name": "stdout",
          "output_type": "stream",
          "text": [
            "Enter product id:1531\n"
          ]
        }
      ]
    },
    {
      "cell_type": "code",
      "metadata": {
        "colab": {
          "base_uri": "https://localhost:8080/"
        },
        "id": "ypNYzznqADMk",
        "outputId": "1f960861-8ecf-47e9-93e0-9076adce1412"
      },
      "source": [
        "records"
      ],
      "execution_count": 6,
      "outputs": [
        {
          "output_type": "execute_result",
          "data": {
            "text/plain": [
              "{'1501': {'Name': 'TupperWare Bottler', 'Price': 80, 'quantity': 30},\n",
              " '1502': {'Name': 'Dishwash', 'Price': 20, 'quantity': 200},\n",
              " '1503': {'Name': 'FingerChips', 'Price': 20, 'quantity': 200},\n",
              " '1504': {'Name': 'Apple Juice', 'Price': 100, 'quantity': 40},\n",
              " '1505': {'Name': 'Bags', 'Price': 150, 'quantity': 50},\n",
              " '1506': {'Name': 'Clippers', 'Price': 20, 'quantity': 300},\n",
              " '1507': {'Name': 'Dairymilk', 'Price': 25, 'quantity': 100},\n",
              " '1508': {'Name': 'Espresso', 'Price': 90, 'quantity': 50},\n",
              " '1509': {'Name': 'Flour', 'Price': 200, 'quantity': 30},\n",
              " '1510': {'Name': 'Ghee', 'Price': 200, 'quantity': 30},\n",
              " '1511': {'Name': 'Honey', 'Price': 75, 'quantity': 50},\n",
              " '1512': {'Name': 'Icing Powder', 'Price': 60, 'quantity': 70},\n",
              " '1513': {'Name': 'Jello', 'Price': 10, 'quantity': 50},\n",
              " '1514': {'Name': 'k', 'Price': 15, 'quantity': 30},\n",
              " '1515': {'Name': 'l', 'Price': 25, 'quantity': 40},\n",
              " '1516': {'Name': 'M', 'Price': 35, 'quantity': 50},\n",
              " '1517': {'Name': 'N', 'Price': 45, 'quantity': 60},\n",
              " '1518': {'Name': 'O', 'Price': 55, 'quantity': 70},\n",
              " '1519': {'Name': 'P', 'Price': 65, 'quantity': 80},\n",
              " '1520': {'Name': 'Q', 'Price': 75, 'quantity': 90},\n",
              " '1521': {'Name': 'R', 'Price': 85, 'quantity': 100},\n",
              " '1522': {'Name': 'S', 'Price': 95, 'quantity': 130},\n",
              " '1523': {'Name': 'T', 'Price': 105, 'quantity': 120},\n",
              " '1524': {'Name': 'U', 'Price': 115, 'quantity': 110},\n",
              " '1525': {'Name': 'V', 'Price': 125, 'quantity': 50},\n",
              " '1526': {'Name': 'W', 'Price': 135, 'quantity': 80},\n",
              " '1527': {'Name': 'X', 'Price': 145, 'quantity': 64},\n",
              " '1528': {'Name': 'Y', 'Price': 155, 'quantity': 76},\n",
              " '1529': {'Name': 'Z', 'Price': 165, 'quantity': 45},\n",
              " '1530': {'Name': 'Papper bag', 'Price': 175, 'quantity': 233}}"
            ]
          },
          "metadata": {},
          "execution_count": 6
        }
      ]
    },
    {
      "cell_type": "markdown",
      "metadata": {
        "id": "YdPd3mLVAbaP"
      },
      "source": [
        "**UPDATING A RECORD**"
      ]
    },
    {
      "cell_type": "code",
      "metadata": {
        "id": "5-P-9117AlYJ"
      },
      "source": [
        "ID = str(input(\"Enter product id:\"))\n",
        "query = str(input(\"Parameter to be updated:\"))\n",
        "new = str(input(\"Enter new data:\"))\n",
        "\n",
        "if ID in records:\n",
        "  if query == 'Price' or query == 'quantity':\n",
        "    dt = int(new)\n",
        "    record[ID][query] = dt\n",
        "  else:\n",
        "    record[ID][query] = new\n",
        "\n",
        "else:\n",
        "  print(\"Product Does not Exist\")\n",
        "\n",
        "js = json.dumps(records)\n",
        "\n",
        "fd = open(\"record.json\",'w')\n",
        "fd.write(js)\n",
        "fd.close()\n",
        "\n"
      ],
      "execution_count": null,
      "outputs": []
    }
  ]
}
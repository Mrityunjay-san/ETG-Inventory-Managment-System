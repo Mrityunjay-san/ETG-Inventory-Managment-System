{
  "nbformat": 4,
  "nbformat_minor": 0,
  "metadata": {
    "colab": {
      "name": "Customer.ipynb",
      "provenance": []
    },
    "kernelspec": {
      "name": "python3",
      "display_name": "Python 3"
    },
    "language_info": {
      "name": "python"
    }
  },
  "cells": [
    {
      "cell_type": "markdown",
      "metadata": {
        "id": "_5RbHry95U-P"
      },
      "source": [
        "**READING INVENTORY**"
      ]
    },
    {
      "cell_type": "code",
      "metadata": {
        "id": "G5eqKl1s3BuK"
      },
      "source": [
        "import json\n",
        "\n",
        "fd = open(\"record.json\",'r')\n",
        "r = fd.read()\n",
        "fd.close()\n",
        "\n",
        "records = json.loads(r)"
      ],
      "execution_count": 2,
      "outputs": []
    },
    {
      "cell_type": "code",
      "metadata": {
        "colab": {
          "base_uri": "https://localhost:8080/"
        },
        "id": "-FlPK-_F52Cd",
        "outputId": "58e00d98-d80c-4a12-df12-e16d650b0047"
      },
      "source": [
        "records"
      ],
      "execution_count": 4,
      "outputs": [
        {
          "output_type": "execute_result",
          "data": {
            "text/plain": [
              "{'1501': {'Name': 'TupperWare Bottler', 'Price': 80, 'quantity': 30},\n",
              " '1502': {'Name': 'Dishwash', 'Price': 20, 'quantity': 200},\n",
              " '1503': {'Name': 'FingerChips', 'Price': 20, 'quantity': 200},\n",
              " '1504': {'Name': 'Apple Juice', 'Price': 100, 'quantity': 40},\n",
              " '1505': {'Name': 'Bags', 'Price': 150, 'quantity': 50},\n",
              " '1506': {'Name': 'Clippers', 'Price': 20, 'quantity': 300},\n",
              " '1507': {'Name': 'Dairymilk', 'Price': 25, 'quantity': 100},\n",
              " '1508': {'Name': 'Espresso', 'Price': 90, 'quantity': 50},\n",
              " '1509': {'Name': 'Flour', 'Price': 200, 'quantity': 30},\n",
              " '1510': {'Name': 'Ghee', 'Price': 200, 'quantity': 30},\n",
              " '1511': {'Name': 'Honey', 'Price': 75, 'quantity': 50},\n",
              " '1512': {'Name': 'Icing Powder', 'Price': 60, 'quantity': 70},\n",
              " '1513': {'Name': 'Jello', 'Price': 10, 'quantity': 50},\n",
              " '1514': {'Name': 'k', 'Price': 15, 'quantity': 30},\n",
              " '1515': {'Name': 'l', 'Price': 25, 'quantity': 40},\n",
              " '1516': {'Name': 'M', 'Price': 35, 'quantity': 50},\n",
              " '1517': {'Name': 'N', 'Price': 45, 'quantity': 60},\n",
              " '1518': {'Name': 'O', 'Price': 55, 'quantity': 70},\n",
              " '1519': {'Name': 'P', 'Price': 65, 'quantity': 80},\n",
              " '1520': {'Name': 'Q', 'Price': 75, 'quantity': 90},\n",
              " '1521': {'Name': 'R', 'Price': 85, 'quantity': 100},\n",
              " '1522': {'Name': 'S', 'Price': 95, 'quantity': 130},\n",
              " '1523': {'Name': 'T', 'Price': 105, 'quantity': 120},\n",
              " '1524': {'Name': 'U', 'Price': 115, 'quantity': 110},\n",
              " '1525': {'Name': 'V', 'Price': 125, 'quantity': 50},\n",
              " '1526': {'Name': 'W', 'Price': 135, 'quantity': 80},\n",
              " '1527': {'Name': 'X', 'Price': 145, 'quantity': 64},\n",
              " '1528': {'Name': 'Y', 'Price': 155, 'quantity': 76},\n",
              " '1529': {'Name': 'Z', 'Price': 165, 'quantity': 45},\n",
              " '1530': {'Name': 'Papper bag', 'Price': 175, 'quantity': 233}}"
            ]
          },
          "metadata": {},
          "execution_count": 4
        }
      ]
    },
    {
      "cell_type": "markdown",
      "metadata": {
        "id": "lDmak-JI551f"
      },
      "source": [
        "**PURCHASING**"
      ]
    },
    {
      "cell_type": "code",
      "metadata": {
        "colab": {
          "base_uri": "https://localhost:8080/"
        },
        "id": "Kr8etAU453aU",
        "outputId": "c5912dd9-5c73-4cce-9f98-e220e1bbd8e3"
      },
      "source": [
        "import time\n",
        "\n",
        "time_of_purchase = 0\n",
        "\n",
        "ID  = str(input(\"Enter the product_Id: \"))\n",
        "QUANT = int(input(\"Enter the quantity: \"))\n",
        "\n",
        "if ID in records:\n",
        "  if QUANT <= records[ID]['quantity']:\n",
        "    print(\"Product: \", records[ID]['Name'])\n",
        "    print(\"Price: \", records[ID]['Price'])\n",
        "    print(\"Billing Amount: \", records[ID]['Price'] * QUANT)\n",
        "    time_of_purchase = str(time.ctime())\n",
        "    records[ID]['quantity'] = records[ID]['quantity'] - QUANT\n",
        "  else:\n",
        "    print(\"Sorry!! We have only\" + str(records[ID]['quantity']) + \"units of the product\")\n",
        "else:\n",
        "  print(\"Sorry!! The product is currently out of stock.\")"
      ],
      "execution_count": 12,
      "outputs": [
        {
          "output_type": "stream",
          "name": "stdout",
          "text": [
            "Enter the product_Id: 1530\n",
            "Enter the quantity: 33\n",
            "Product:  Papper bag\n",
            "Price:  175\n",
            "Billing Amount:  5775\n"
          ]
        }
      ]
    },
    {
      "cell_type": "markdown",
      "metadata": {
        "id": "M-Pj1akZ7vhR"
      },
      "source": [
        "**UPDATE INVENTORY AFTER PURCHASE**"
      ]
    },
    {
      "cell_type": "code",
      "metadata": {
        "id": "4NXHg-em70hV"
      },
      "source": [
        "js = json.dumps(records)\n",
        "\n",
        "fd = open(\"record.json\",'w')\n",
        "fd.write(js)\n",
        "fd.close()"
      ],
      "execution_count": 6,
      "outputs": []
    },
    {
      "cell_type": "markdown",
      "metadata": {
        "id": "u5K_1ujE8VAB"
      },
      "source": [
        "**SALES**"
      ]
    },
    {
      "cell_type": "code",
      "metadata": {
        "id": "6v1AmCpc8u7W"
      },
      "source": [
        "fd = open(\"Sales.json\",'r')\n",
        "sls = fd.read()\n",
        "fd.close()"
      ],
      "execution_count": 8,
      "outputs": []
    },
    {
      "cell_type": "code",
      "metadata": {
        "id": "q-g3bktR9UjM"
      },
      "source": [
        "Sales = json.loads(sls)"
      ],
      "execution_count": 9,
      "outputs": []
    },
    {
      "cell_type": "code",
      "metadata": {
        "id": "Bg9y649_9ZKw"
      },
      "source": [
        "sale_num = len(Sales.keys()) + 1\n",
        "Sales[sale_num] = {\"ID\" : ID, \"Quantity\" : QUANT, \"Time\" :time_of_purchase, \"Amount\": records[ID]['Price'] * QUANT}\n",
        "\n",
        "jss=json.dumps(Sales)\n",
        "\n",
        "fd = open(\"Sales.json\",'w')\n",
        "fd.write(jss)\n",
        "fd.close()"
      ],
      "execution_count": 13,
      "outputs": []
    }
  ]
}